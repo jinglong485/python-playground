{
 "cells": [
  {
   "cell_type": "code",
   "execution_count": 15,
   "metadata": {},
   "outputs": [],
   "source": [
    "import numpy as np\n",
    "import itertools\n",
    "import time"
   ]
  },
  {
   "cell_type": "code",
   "execution_count": 16,
   "metadata": {},
   "outputs": [],
   "source": [
    "X = np.random.random((100, 100)) #  A random 100x100 matrix\n",
    "tmp = np.zeros((100, 100)) #  Placeholder"
   ]
  },
  {
   "cell_type": "code",
   "execution_count": 17,
   "metadata": {},
   "outputs": [],
   "source": [
    "def fill_per_window(args):\n",
    "    window_x, window_y = args\n",
    "\n",
    "    for i in range(window_x, window_y + 2):\n",
    "        for j in range(window_x, window_y + 2):\n",
    "            tmp[i, j] = X[i, j]"
   ]
  },
  {
   "cell_type": "code",
   "execution_count": 18,
   "metadata": {},
   "outputs": [],
   "source": [
    "window_idxs = [(i, j) for i, j in itertools.product(range(0, 100, 2), range(0, 100, 2))]"
   ]
  },
  {
   "cell_type": "code",
   "execution_count": 20,
   "metadata": {},
   "outputs": [
    {
     "name": "stdout",
     "output_type": "stream",
     "text": [
      "Using time about: 1.0253362655639648\n"
     ]
    }
   ],
   "source": [
    "time_start = time.time()\n",
    "for idx in window_idxs:\n",
    "    fill_per_window(idx)\n",
    "time_end = time.time()\n",
    "print('Using time about: {}'.format(time_end - time_start))"
   ]
  },
  {
   "cell_type": "code",
   "execution_count": 2,
   "metadata": {},
   "outputs": [],
   "source": [
    "import numpy as np\n",
    "import itertools\n",
    "from multiprocessing import Pool #  Process pool\n",
    "from multiprocessing import sharedctypes"
   ]
  },
  {
   "cell_type": "code",
   "execution_count": 3,
   "metadata": {},
   "outputs": [],
   "source": [
    "size = 100\n",
    "block_size = 4"
   ]
  },
  {
   "cell_type": "code",
   "execution_count": 4,
   "metadata": {},
   "outputs": [],
   "source": [
    "X = np.random.random((size, size))\n",
    "result = np.ctypeslib.as_ctypes(np.zeros((size, size)))\n",
    "shared_array = sharedctypes.RawArray(result._type_, result)"
   ]
  },
  {
   "cell_type": "code",
   "execution_count": 5,
   "metadata": {},
   "outputs": [
    {
     "data": {
      "text/plain": [
       "c_double_Array_100"
      ]
     },
     "execution_count": 5,
     "metadata": {},
     "output_type": "execute_result"
    }
   ],
   "source": [
    "result._type_"
   ]
  },
  {
   "cell_type": "code",
   "execution_count": 25,
   "metadata": {},
   "outputs": [],
   "source": [
    "def fill_per_window(args):\n",
    "    window_x, window_y = args\n",
    "    tmp = np.ctypeslib.as_array(shared_array)\n",
    "\n",
    "    for idx_x in range(window_x, window_x + block_size):\n",
    "        for idx_y in range(window_y, window_y + block_size):\n",
    "            tmp[idx_x, idx_y] = X[idx_x, idx_y]"
   ]
  },
  {
   "cell_type": "code",
   "execution_count": 27,
   "metadata": {},
   "outputs": [],
   "source": [
    "window_idxs = [(i, j) for i, j in itertools.product(range(0, size, block_size),range(0, size, block_size))]"
   ]
  },
  {
   "cell_type": "code",
   "execution_count": 29,
   "metadata": {},
   "outputs": [
    {
     "name": "stdout",
     "output_type": "stream",
     "text": [
      "Using time about: 0.11792325973510742\n"
     ]
    }
   ],
   "source": [
    "time_start_mp = time.time()\n",
    "p = Pool()\n",
    "res = p.map(fill_per_window, window_idxs)\n",
    "result = np.ctypeslib.as_array(shared_array)\n",
    "time_end_mp = time.time()\n",
    "print('Using time about: {}'.format(time_end_mp - time_start_mp))"
   ]
  },
  {
   "cell_type": "code",
   "execution_count": 30,
   "metadata": {},
   "outputs": [
    {
     "name": "stdout",
     "output_type": "stream",
     "text": [
      "True\n"
     ]
    }
   ],
   "source": [
    "print(np.array_equal(X, result))"
   ]
  },
  {
   "cell_type": "code",
   "execution_count": null,
   "metadata": {},
   "outputs": [],
   "source": []
  }
 ],
 "metadata": {
  "kernelspec": {
   "display_name": "Python 3",
   "language": "python",
   "name": "python3"
  },
  "language_info": {
   "codemirror_mode": {
    "name": "ipython",
    "version": 3
   },
   "file_extension": ".py",
   "mimetype": "text/x-python",
   "name": "python",
   "nbconvert_exporter": "python",
   "pygments_lexer": "ipython3",
   "version": "3.7.5"
  }
 },
 "nbformat": 4,
 "nbformat_minor": 4
}
