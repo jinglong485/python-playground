{
 "cells": [
  {
   "cell_type": "code",
   "execution_count": 2,
   "metadata": {},
   "outputs": [],
   "source": [
    "import random\n",
    "import threading\n",
    "import time\n",
    "import multiprocessing"
   ]
  },
  {
   "cell_type": "code",
   "execution_count": 4,
   "metadata": {},
   "outputs": [
    {
     "name": "stdout",
     "output_type": "stream",
     "text": [
      "Only Linux/FreeBSD support cpu_affinity.\n"
     ]
    }
   ],
   "source": [
    "import platform\n",
    "if platform.system() == 'Linux':\n",
    "    import psutil\n",
    "    pt = psutil.Process()\n",
    "    all_cpus = list(range(psutil.cpu_count()))\n",
    "    pt.cpu_affinity(all_cpus)\n",
    "    pt.cpu_affinity()\n",
    "else:\n",
    "    print('Only Linux/FreeBSD support cpu_affinity.')"
   ]
  },
  {
   "cell_type": "code",
   "execution_count": 5,
   "metadata": {},
   "outputs": [],
   "source": [
    "def getPi(num=10000):\n",
    "    k = 0\n",
    "    r = 1.0\n",
    "    for _ in range(num):\n",
    "        x = random.random()\n",
    "        y = random.random()\n",
    "        if x**2 + y**2 < r:\n",
    "            k=k+1\n",
    "    pi = 4* float(k)/float(num)\n",
    "    print('PI is: {}'.format(pi))"
   ]
  },
  {
   "cell_type": "code",
   "execution_count": 6,
   "metadata": {},
   "outputs": [],
   "source": [
    "MC_loop = 10000000\n",
    "core_num = multiprocessing.cpu_count()\n",
    "work = [MC_loop]*4"
   ]
  },
  {
   "cell_type": "code",
   "execution_count": 7,
   "metadata": {},
   "outputs": [
    {
     "name": "stdout",
     "output_type": "stream",
     "text": [
      "PI is: 3.1407136\n",
      "PI is: 3.1416512\n",
      "PI is: 3.1413272\n",
      "PI is: 3.141208\n",
      "The total time is:16.0399010181427\n"
     ]
    }
   ],
   "source": [
    "time_start_mt = time.time()\n",
    "for _ in range(core_num):\n",
    "    t = threading.Thread(target = getPi(MC_loop))\n",
    "    t.start()\n",
    "    #t.join()\n",
    "time_end_mt = time.time()\n",
    "print('The total time is:{}'.format(time_end_mt-time_start_mt))"
   ]
  },
  {
   "cell_type": "code",
   "execution_count": 8,
   "metadata": {},
   "outputs": [
    {
     "name": "stdout",
     "output_type": "stream",
     "text": [
      "PI is: 3.1421596\n",
      "PI is: 3.1412996\n",
      "PI is: 3.1424872\n",
      "PI is: 3.1420908\n",
      "The total time is:8.361805200576782\n"
     ]
    }
   ],
   "source": [
    "pl = multiprocessing.Pool(core_num)\n",
    "time_start_pl = time.time()\n",
    "pl.map(getPi,work)\n",
    "time_end_pl = time.time()\n",
    "print('The total time is:{}'.format(time_end_pl-time_start_pl))"
   ]
  },
  {
   "cell_type": "code",
   "execution_count": null,
   "metadata": {},
   "outputs": [],
   "source": []
  }
 ],
 "metadata": {
  "kernelspec": {
   "display_name": "Python 3",
   "language": "python",
   "name": "python3"
  },
  "language_info": {
   "codemirror_mode": {
    "name": "ipython",
    "version": 3
   },
   "file_extension": ".py",
   "mimetype": "text/x-python",
   "name": "python",
   "nbconvert_exporter": "python",
   "pygments_lexer": "ipython3",
   "version": "3.7.5rc1"
  }
 },
 "nbformat": 4,
 "nbformat_minor": 4
}
