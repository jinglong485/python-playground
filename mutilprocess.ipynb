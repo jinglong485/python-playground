{
 "cells": [
  {
   "cell_type": "code",
   "execution_count": 1,
   "metadata": {},
   "outputs": [],
   "source": [
    "import random\n",
    "import threading\n",
    "import time\n",
    "import multiprocessing\n",
    "import math\n",
    "import numpy as np\n",
    "import matplotlib.pyplot as plt"
   ]
  },
  {
   "cell_type": "code",
   "execution_count": 7,
   "metadata": {},
   "outputs": [
    {
     "name": "stdout",
     "output_type": "stream",
     "text": [
      "Only Linux/FreeBSD support cpu_affinity.\n"
     ]
    }
   ],
   "source": [
    "import platform\n",
    "if platform.system() == 'Linux':\n",
    "    import psutil\n",
    "    pt = psutil.Process()\n",
    "    all_cpus = list(range(psutil.cpu_count()))\n",
    "    pt.cpu_affinity(all_cpus)\n",
    "    pt.cpu_affinity()\n",
    "else:\n",
    "    print('Only Linux/FreeBSD support cpu_affinity.')"
   ]
  },
  {
   "cell_type": "code",
   "execution_count": 9,
   "metadata": {},
   "outputs": [
    {
     "data": {
      "text/plain": [
       "'fork'"
      ]
     },
     "execution_count": 9,
     "metadata": {},
     "output_type": "execute_result"
    }
   ],
   "source": [
    "multiprocessing.get_all_start_methods()\n",
    "multiprocessing.get_start_method()"
   ]
  },
  {
   "cell_type": "code",
   "execution_count": 3,
   "metadata": {},
   "outputs": [],
   "source": [
    "def getPi(num=10000):\n",
    "    k = 0\n",
    "    r = 1.0\n",
    "    for _ in range(num):\n",
    "        x = random.random()\n",
    "        y = random.random()\n",
    "        if x**2 + y**2 < r:\n",
    "            k=k+1\n",
    "    pi = 4* float(k)/float(num)\n",
    "    print('PI is: {}'.format(pi))"
   ]
  },
  {
   "cell_type": "code",
   "execution_count": 4,
   "metadata": {},
   "outputs": [],
   "source": [
    "MC_loop = 1000000000\n",
    "core_num = multiprocessing.cpu_count() - 1\n",
    "work = [MC_loop]*core_num"
   ]
  },
  {
   "cell_type": "code",
   "execution_count": 5,
   "metadata": {},
   "outputs": [
    {
     "name": "stdout",
     "output_type": "stream",
     "text": [
      "PI is: 3.141630032\n",
      "PI is: 3.141603436\n",
      "PI is: 3.141679552\n",
      "The total time is:909.6430461406708\n"
     ]
    }
   ],
   "source": [
    "pl = multiprocessing.Pool(core_num)\n",
    "time_start_pl = time.time()\n",
    "pl.map(getPi,work)\n",
    "time_end_pl = time.time()\n",
    "print('The total time is:{}'.format(time_end_pl-time_start_pl))"
   ]
  },
  {
   "cell_type": "code",
   "execution_count": 10,
   "metadata": {},
   "outputs": [
    {
     "name": "stdout",
     "output_type": "stream",
     "text": [
      "PI is: 3.141538372\n",
      "PI is: 3.141555156\n",
      "PI is: 3.141680604\n",
      "The total time is:1654.3463099002838\n"
     ]
    }
   ],
   "source": [
    "time_start_mt = time.time()\n",
    "for _ in range(core_num):\n",
    "    t = threading.Thread(target = getPi(MC_loop))\n",
    "    t.start()\n",
    "    #t.join()\n",
    "time_end_mt = time.time()\n",
    "print('The total time is:{}'.format(time_end_mt-time_start_mt))"
   ]
  },
  {
   "cell_type": "code",
   "execution_count": null,
   "metadata": {},
   "outputs": [],
   "source": []
  }
 ],
 "metadata": {
  "kernelspec": {
   "display_name": "Python 3",
   "language": "python",
   "name": "python3"
  },
  "language_info": {
   "codemirror_mode": {
    "name": "ipython",
    "version": 3
   },
   "file_extension": ".py",
   "mimetype": "text/x-python",
   "name": "python",
   "nbconvert_exporter": "python",
   "pygments_lexer": "ipython3",
   "version": "3.8.0"
  }
 },
 "nbformat": 4,
 "nbformat_minor": 4
}
