{
 "cells": [
  {
   "cell_type": "code",
   "execution_count": 1,
   "metadata": {},
   "outputs": [],
   "source": [
    "from mpl_toolkits.mplot3d import Axes3D \n",
    "import matplotlib.pyplot as plt \n",
    "import numpy as np"
   ]
  },
  {
   "cell_type": "code",
   "execution_count": 2,
   "metadata": {},
   "outputs": [],
   "source": [
    "%matplotlib qt5"
   ]
  },
  {
   "cell_type": "code",
   "execution_count": 3,
   "metadata": {},
   "outputs": [],
   "source": [
    "a = 9.37489074\n",
    "b = 6.62904882\n",
    "c = 4.68744537"
   ]
  },
  {
   "cell_type": "code",
   "execution_count": 4,
   "metadata": {},
   "outputs": [],
   "source": [
    "Cd = np.array([[0.75, 0.5, 0.5],[0, 0, 0],[0.25, 0.5, 0.5],[0.5, 0, 0]])"
   ]
  },
  {
   "cell_type": "code",
   "execution_count": 5,
   "metadata": {},
   "outputs": [
    {
     "data": {
      "text/plain": [
       "array([[0.75, 0.5 , 0.5 ],\n",
       "       [0.  , 0.  , 0.  ],\n",
       "       [0.25, 0.5 , 0.5 ],\n",
       "       [0.5 , 0.  , 0.  ]])"
      ]
     },
     "execution_count": 5,
     "metadata": {},
     "output_type": "execute_result"
    }
   ],
   "source": [
    "Cd"
   ]
  },
  {
   "cell_type": "code",
   "execution_count": 6,
   "metadata": {},
   "outputs": [],
   "source": [
    "Te = np.array([[0,0.25,0.5], [0.5, 0.25, 0.5], [0.25, 0.75, 0], [0.75, 0.75, 0]])"
   ]
  },
  {
   "cell_type": "code",
   "execution_count": 7,
   "metadata": {},
   "outputs": [
    {
     "data": {
      "text/plain": [
       "array([[0.  , 0.25, 0.5 ],\n",
       "       [0.5 , 0.25, 0.5 ],\n",
       "       [0.25, 0.75, 0.  ],\n",
       "       [0.75, 0.75, 0.  ]])"
      ]
     },
     "execution_count": 7,
     "metadata": {},
     "output_type": "execute_result"
    }
   ],
   "source": [
    "Te"
   ]
  },
  {
   "cell_type": "code",
   "execution_count": 8,
   "metadata": {},
   "outputs": [],
   "source": [
    "Cd_x = Cd[:,0]*a\n",
    "Cd_y = Cd[:,1]*b\n",
    "Cd_z = Cd[:,2]*c\n",
    "Te_x = Te[:,0]*a\n",
    "Te_y = Te[:,1]*b\n",
    "Te_z = Te[:,2]*c"
   ]
  },
  {
   "cell_type": "code",
   "execution_count": 9,
   "metadata": {},
   "outputs": [],
   "source": [
    "x0 = np.array([0,0])\n",
    "y0 = x0\n",
    "z0 = x0\n",
    "x1 = np.array([0,a])\n",
    "y1 = np.array([0,b])\n",
    "z1 = np.array([0,c])\n",
    "x2 = np.array([a,a])\n",
    "y2 = np.array([b,b])\n",
    "z2 = np.array([c,c])"
   ]
  },
  {
   "cell_type": "code",
   "execution_count": 12,
   "metadata": {},
   "outputs": [],
   "source": [
    "fig = plt.figure()\n",
    "ax = fig.add_subplot(111, projection='3d')\n",
    "ax.set_proj_type('ortho')\n",
    "ax.scatter(Cd_x, Cd_y, Cd_z, s = 150, c = 'red', label = 'Cd')\n",
    "ax.scatter(Te_x, Te_y, Te_z, s = 150, c = 'blue', label = 'Te')\n",
    "ax.plot(x1,y0,z0,c = 'black')\n",
    "ax.plot(x1,y0,z2,c = 'black')\n",
    "ax.plot(x1,y2,z0,c = 'black')\n",
    "ax.plot(x1,y2,z2,c = 'black')\n",
    "ax.plot(x0,y1,z0,c = 'black')\n",
    "ax.plot(x0,y1,z2,c = 'black')\n",
    "ax.plot(x2,y1,z0,c = 'black')\n",
    "ax.plot(x2,y1,z2,c = 'black')\n",
    "ax.plot(x0,y0,z1,c = 'black')\n",
    "ax.plot(x0,y2,z1,c = 'black')\n",
    "ax.plot(x2,y0,z1,c = 'black')\n",
    "ax.plot(x2,y2,z1,c = 'black')\n",
    "ax.set_axis_off()\n",
    "ax.legend()\n",
    "ax.view_init(90, 90)\n",
    "plt.show()"
   ]
  },
  {
   "cell_type": "code",
   "execution_count": null,
   "metadata": {},
   "outputs": [],
   "source": []
  }
 ],
 "metadata": {
  "kernelspec": {
   "display_name": "Python 3",
   "language": "python",
   "name": "python3"
  },
  "language_info": {
   "codemirror_mode": {
    "name": "ipython",
    "version": 3
   },
   "file_extension": ".py",
   "mimetype": "text/x-python",
   "name": "python",
   "nbconvert_exporter": "python",
   "pygments_lexer": "ipython3",
   "version": "3.7.5"
  }
 },
 "nbformat": 4,
 "nbformat_minor": 4
}
