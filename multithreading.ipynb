{
 "cells": [
  {
   "cell_type": "code",
   "execution_count": 1,
   "metadata": {},
   "outputs": [],
   "source": [
    "import threading\n",
    "import time"
   ]
  },
  {
   "cell_type": "code",
   "execution_count": 2,
   "metadata": {},
   "outputs": [],
   "source": [
    "def sleeper(n,name):\n",
    "    print('{} robot sleeps for {} seconds'.format(name, n))\n",
    "    time.sleep(n)\n",
    "    print('Robot {} wakes!'.format(name))"
   ]
  },
  {
   "cell_type": "markdown",
   "metadata": {},
   "source": [
    "```python\n",
    "t = threading.Thread(target = sleeper, args = (5, 'WOW'))\n",
    "t.start()\n",
    "print(t.name)\n",
    "t.join()\n",
    "\n",
    "print(\"WOW\")\n",
    "print('MOM')\n",
    "```"
   ]
  },
  {
   "cell_type": "code",
   "execution_count": 5,
   "metadata": {},
   "outputs": [
    {
     "name": "stdout",
     "output_type": "stream",
     "text": [
      "Thread No.1 robot sleeps for 1 seconds\n",
      "No.1 thread started.\n",
      "Thread No.2 robot sleeps for 2 secondsNo.2 thread started.\n",
      "\n",
      "Thread No.3 robot sleeps for 3 seconds\n",
      "No.3 thread started.\n",
      "Thread No.4 robot sleeps for 4 secondsNo.4 thread started.\n",
      "\n",
      "Thread No.5 robot sleeps for 5 secondsNo.5 thread started.\n",
      "\n",
      "Robot Thread No.1 wakes!\n",
      "Robot Thread No.2 wakes!\n",
      "Robot Thread No.3 wakes!\n",
      "Robot Thread No.4 wakes!\n",
      "Robot Thread No.5 wakes!\n",
      "Total time is 5.0149986743927\n"
     ]
    }
   ],
   "source": [
    "start_time = time.time()\n",
    "threading_list = []\n",
    "for i in range(5):\n",
    "    t = threading.Thread(target = sleeper, args = (i+1, 'Thread No.{}'.format(i+1)))\n",
    "    t.start()\n",
    "    threading_list.append(t)\n",
    "    print('No.{} thread started.'.format(i+1))\n",
    "for t in threading_list:\n",
    "    t.join()\n",
    "end_time = time.time()\n",
    "print('Total time is {}'.format(end_time - start_time))"
   ]
  },
  {
   "cell_type": "code",
   "execution_count": 4,
   "metadata": {},
   "outputs": [
    {
     "name": "stdout",
     "output_type": "stream",
     "text": [
      "Thread No.1 robot sleeps for 1 seconds\n",
      "No.1 thread started.\n",
      "Robot Thread No.1 wakes!\n",
      "Thread No.2 robot sleeps for 2 seconds\n",
      "No.2 thread started.\n",
      "Robot Thread No.2 wakes!\n",
      "Thread No.3 robot sleeps for 3 secondsNo.3 thread started.\n",
      "\n",
      "Robot Thread No.3 wakes!\n",
      "Thread No.4 robot sleeps for 4 seconds\n",
      "No.4 thread started.\n",
      "Robot Thread No.4 wakes!\n",
      "Thread No.5 robot sleeps for 5 seconds\n",
      "No.5 thread started.\n",
      "Robot Thread No.5 wakes!\n",
      "Total time is 15.016068935394287\n"
     ]
    }
   ],
   "source": [
    "start_time = time.time()\n",
    "\n",
    "for i in range(5):\n",
    "    t = threading.Thread(target = sleeper, args = (i+1, 'Thread No.{}'.format(i+1)))\n",
    "    t.start()\n",
    "    print('No.{} thread started.'.format(i+1))\n",
    "    t.join()\n",
    "\n",
    "end_time = time.time()\n",
    "print('Total time is {}'.format(end_time - start_time))"
   ]
  },
  {
   "cell_type": "code",
   "execution_count": null,
   "metadata": {},
   "outputs": [],
   "source": []
  }
 ],
 "metadata": {
  "kernelspec": {
   "display_name": "Python 3",
   "language": "python",
   "name": "python3"
  },
  "language_info": {
   "codemirror_mode": {
    "name": "ipython",
    "version": 3
   },
   "file_extension": ".py",
   "mimetype": "text/x-python",
   "name": "python",
   "nbconvert_exporter": "python",
   "pygments_lexer": "ipython3",
   "version": "3.7.5rc1"
  }
 },
 "nbformat": 4,
 "nbformat_minor": 4
}
